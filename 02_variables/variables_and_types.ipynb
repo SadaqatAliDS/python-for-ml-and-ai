{
 "cells": [
  {
   "cell_type": "markdown",
   "metadata": {},
   "source": [
    "\n",
    "# _**Variables**_\n",
    "---"
   ]
  },
  {
   "cell_type": "markdown",
   "metadata": {},
   "source": [
    "- Variable is a name that refers to a value. The value can be changed, hence the name variable. In Python, varibles can be declared and values can be assigned to it as follow:\n",
    "> These are the types of variables in Python:\n",
    "1. Integer `int`\n",
    "2. Floating `float`\n",
    "3. String `str`\n",
    "4. Boolean `bool`\n",
    "5. List `list`\n",
    "6. Tuple `tuple`\n",
    "7. Dictionary `dict`\n",
    "8. Set `set`\n",
    "9. None `None`\n",
    "10. Complex `complex`"
   ]
  },
  {
   "cell_type": "markdown",
   "metadata": {},
   "source": [
    "# _**Variable Types**_\n",
    "---"
   ]
  },
  {
   "cell_type": "markdown",
   "metadata": {},
   "source": [
    "## ***1. Integer (`Int`)***\n",
    "---"
   ]
  },
  {
   "cell_type": "markdown",
   "metadata": {},
   "source": [
    "- Integers are whole numbers, positve or negative numbers, without decimal points."
   ]
  },
  {
   "cell_type": "code",
   "execution_count": null,
   "metadata": {},
   "outputs": [],
   "source": [
    "age = 18\n",
    "print (age)\n",
    "print (type(age))"
   ]
  },
  {
   "cell_type": "markdown",
   "metadata": {},
   "source": [
    "- In Python, integers are **immutable**, meaning their values cannot be changed after assignment.\n",
    "- However, if you mean modifying a variable that holds an integer, you are actually reassigning it, not mutating it.\n",
    ">**_Reassignment (Not Mutation)_**"
   ]
  },
  {
   "cell_type": "code",
   "execution_count": null,
   "metadata": {},
   "outputs": [],
   "source": [
    "a = 10  # Assigning an integer\n",
    "print(\"Before reassignment:\", a)\n",
    "\n",
    "a = 20  # Reassigning a new value\n",
    "print(\"After reassignment:\", a)"
   ]
  },
  {
   "cell_type": "markdown",
   "metadata": {},
   "source": [
    "- Here, `a` is not modified; instead, a new integer `20` is assigned to it. The original `10` is discarded.\n",
    "> #### **_Proof of Immutability_**\n",
    "- We can check the memory address (`id()`) before and after modification:"
   ]
  },
  {
   "cell_type": "code",
   "execution_count": null,
   "metadata": {},
   "outputs": [],
   "source": [
    "a = 10\n",
    "print(\"Memory address before:\", id(a))\n",
    "\n",
    "a = 20  # New integer assigned\n",
    "print(\"Memory address after:\", id(a))"
   ]
  },
  {
   "cell_type": "code",
   "execution_count": null,
   "metadata": {},
   "outputs": [],
   "source": [
    "x = 10\n",
    "print(\"Memory address of x before modification:\", id(x))\n",
    "\n",
    "x += 5  # This creates a new integer object\n",
    "print(\"Memory address of x after modification:\", id(x))\n",
    "\n",
    "# The memory address changes, proving that integers are immutable."
   ]
  },
  {
   "cell_type": "markdown",
   "metadata": {},
   "source": [
    "- Since the memory address changes, it confirms that Python created a new object instead of modifying the existing one.\n",
    "\n",
    "---"
   ]
  },
  {
   "cell_type": "markdown",
   "metadata": {},
   "source": [
    "## ***2. Floating (`float`)***\n",
    "---"
   ]
  },
  {
   "cell_type": "markdown",
   "metadata": {},
   "source": [
    "- Float represents numbers that have a decimal point or in exponential form."
   ]
  },
  {
   "cell_type": "code",
   "execution_count": null,
   "metadata": {},
   "outputs": [],
   "source": [
    "temperature = 98.6\n",
    "print (temperature)\n",
    "print (type(temperature))"
   ]
  },
  {
   "cell_type": "markdown",
   "metadata": {},
   "source": [
    "- **Floating-point numbers (`float`) are also immutable** in Python. This means    you cannot modify their value in place\n",
    "\n",
    "- Instead, a new object is created whenever you change the value.\n",
    "\n",
    "> #### **_Reassignment (Not Mutation)_**"
   ]
  },
  {
   "cell_type": "code",
   "execution_count": null,
   "metadata": {},
   "outputs": [],
   "source": [
    "b = 36.6  # Assigning a float value\n",
    "print(\"Before reassignment:\", b)\n",
    "\n",
    "b = 45.8  # Reassigning a new value\n",
    "print(\"After reassignment:\", b)"
   ]
  },
  {
   "cell_type": "markdown",
   "metadata": {},
   "source": [
    "- Here, `b` is not modified but replaced with a new value.\n",
    "\n",
    ">#### _**Proof of Immutability**_\n",
    "\n",
    "- We can check the memory address before and after modifying the variable:"
   ]
  },
  {
   "cell_type": "code",
   "execution_count": null,
   "metadata": {},
   "outputs": [],
   "source": [
    "\n",
    "b = 36.6\n",
    "print(\"Memory address before:\", id(b))\n",
    "\n",
    "b = 45.8  # New float assigned\n",
    "print(\"Memory address after:\", id(b))"
   ]
  },
  {
   "cell_type": "markdown",
   "metadata": {},
   "source": [
    "- Since the memory address changes, it proves that `float` is immutable.\n",
    "  \n",
    "---"
   ]
  },
  {
   "cell_type": "markdown",
   "metadata": {},
   "source": [
    "## ***3. String (`str`)***\n",
    "---\n",
    "\n"
   ]
  },
  {
   "cell_type": "markdown",
   "metadata": {},
   "source": [
    "- Strings are sequences of characters enclosed in single `' '` , double `\" \"` or tripple `''' '''` qoutes."
   ]
  },
  {
   "cell_type": "code",
   "execution_count": null,
   "metadata": {},
   "outputs": [],
   "source": [
    "greetings = \"Hello! How are you?\"\n",
    "print (greetings) \n",
    "print (type(greetings)) \n"
   ]
  },
  {
   "cell_type": "markdown",
   "metadata": {},
   "source": [
    " \n",
    "- In Python, **strings are immutable**, meaning once a string is created, it cannot be changed in place.\n",
    "  \n",
    "- If we modify a string, Python creates a new string object instead of modifying the existing one.\n",
    "\n",
    "> #### _**Reassignment (Not Mutation)**_"
   ]
  },
  {
   "cell_type": "code",
   "execution_count": null,
   "metadata": {},
   "outputs": [],
   "source": [
    "s = \"Hello\"  # Assigning a string\n",
    "print(\"Before reassignment:\", s)\n",
    "\n",
    "s = \"World\"  # Reassigning a new string\n",
    "print(\"After reassignment:\", s)"
   ]
  },
  {
   "cell_type": "markdown",
   "metadata": {},
   "source": [
    "-  Here, `s` is not modified; instead, a new string `\"World\"` is assigned, and the old one (`\"Hello\"`) is discarded.\n",
    "\n",
    "> #### _**Proof of Immutability (Memory Address Change)**_"
   ]
  },
  {
   "cell_type": "code",
   "execution_count": null,
   "metadata": {},
   "outputs": [],
   "source": [
    "s = \"Hello\"\n",
    "print(\"Memory address before:\", id(s))\n",
    "\n",
    "s = \"World\"  # New string assigned\n",
    "print(\"Memory address after:\", id(s))"
   ]
  },
  {
   "cell_type": "markdown",
   "metadata": {},
   "source": [
    "- The memory address changes, proving that Python created a **new object** instead of modifying the original one.\n",
    "> #### _**What Happens If We Try to Modify a String?**_\n",
    "\n",
    "- Trying to modify a string directly will cause an error:"
   ]
  },
  {
   "cell_type": "code",
   "execution_count": null,
   "metadata": {},
   "outputs": [],
   "source": [
    "s = \"Hello\"\n",
    "s[0] = \"J\"  # ❌ This will cause an error!"
   ]
  },
  {
   "cell_type": "markdown",
   "metadata": {},
   "source": [
    "\n",
    "> #### _**Error :**_ \n",
    "\n",
    "- This happens because strings are **immutable** and do not allow modification in place.\n",
    "\n",
    "> #### _**How to \"Modify\" a String? (By Creating a New One)**_\n",
    "\n",
    "- Even though strings are immutable, we can create a **new** string using string operations:\n"
   ]
  },
  {
   "cell_type": "code",
   "execution_count": null,
   "metadata": {},
   "outputs": [],
   "source": [
    "s = \"Hello\"\n",
    "new_s = \"J\" + s[1:]  # Creates a new string\n",
    "print(\"Modified String:\", new_s)"
   ]
  },
  {
   "cell_type": "markdown",
   "metadata": {},
   "source": [
    "\n",
    "\n",
    "> **Output:**  \n",
    "\n",
    "`Modified String: Jello`\n",
    "\n",
    "- This does _**not**_ modify `s`, but rather creats a _**new modified string**_`\"Jello\"`.\n",
    "\n",
    "---"
   ]
  },
  {
   "cell_type": "markdown",
   "metadata": {},
   "source": [
    "## ***4. Boolean (`bool`)***\n",
    "---\n"
   ]
  },
  {
   "cell_type": "markdown",
   "metadata": {},
   "source": [
    "- Boolean represents one of two values : `True` or `False`."
   ]
  },
  {
   "cell_type": "code",
   "execution_count": null,
   "metadata": {},
   "outputs": [],
   "source": [
    "is_raining = False\n",
    "print (is_raining)\n",
    "print (type(is_raining))\n"
   ]
  },
  {
   "cell_type": "markdown",
   "metadata": {},
   "source": [
    "- In Python, _**boolean values (`True` and `False`) are immutable**_, meaning their value cannot be changed once assigned.\n",
    "\n",
    "> #### _**Reassignment (Not Mutation)**_"
   ]
  },
  {
   "cell_type": "code",
   "execution_count": null,
   "metadata": {},
   "outputs": [],
   "source": [
    "flag = True  # Assigning a boolean value\n",
    "print(\"Before reassignment:\", flag)\n",
    "\n",
    "flag = False  # Reassigning a new value\n",
    "print(\"After reassignment:\", flag)"
   ]
  },
  {
   "cell_type": "markdown",
   "metadata": {},
   "source": [
    "- Here, `flag` is _**not modified**_ but replaced with a _**new boolean value**_ (`False`).\n",
    "\n",
    "\n",
    "> #### _**Proof of Immutability (Memory Address Change)**_"
   ]
  },
  {
   "cell_type": "code",
   "execution_count": null,
   "metadata": {},
   "outputs": [],
   "source": [
    "flag = True\n",
    "print(\"Memory address before:\", id(flag))\n",
    "\n",
    "flag = False  # Assigning a new boolean value\n",
    "print(\"Memory address after:\", id(flag))"
   ]
  },
  {
   "cell_type": "markdown",
   "metadata": {},
   "source": [
    "- The memory address changes, proving that _**a new object is created**_ instead of modifying the existing one.\n",
    "\n",
    "> #### _**What Happens If We Try to Modify a Boolean?**_\n",
    "- Booleans cannot be modified like lists or dictionaries. \n",
    "\n",
    "- If we try to change `True` or `False`, we are actually just reassigning the variable."
   ]
  },
  {
   "cell_type": "code",
   "execution_count": null,
   "metadata": {},
   "outputs": [],
   "source": [
    "flag = True\n",
    "flag = not flag  # Changes True to False\n",
    "print(\"Negated Boolean:\", flag)"
   ]
  },
  {
   "cell_type": "markdown",
   "metadata": {},
   "source": [
    "- This does _**not modify the original boolean**_, but instead _**assigns a new value**_.\n",
    "> #### _**Booleans Behave Like Integers (0 and 1)**_\n",
    "- Booleans in Python internally behave like `0` and `1`. For example:"
   ]
  },
  {
   "cell_type": "code",
   "execution_count": null,
   "metadata": {},
   "outputs": [],
   "source": [
    "print(True + 1)  # Output: 2\n",
    "print(False + 5) # Output: 5"
   ]
  },
  {
   "cell_type": "markdown",
   "metadata": {},
   "source": [
    "\n",
    "- But even though they act like integers, they are still _**immutable**_.\n",
    "\n",
    "---\n"
   ]
  },
  {
   "cell_type": "markdown",
   "metadata": {},
   "source": [
    "## _**5. List (`list`)**_\n",
    "---\n"
   ]
  },
  {
   "cell_type": "markdown",
   "metadata": {},
   "source": [
    "- Lists are ordered, mutable collections of items, which can be of any data type. Lists are defined using square brackets `[]`."
   ]
  },
  {
   "cell_type": "code",
   "execution_count": null,
   "metadata": {},
   "outputs": [],
   "source": [
    "numbers = [1, 2, 3, 4, 5]\n",
    "print (numbers)\n",
    "print (type(numbers))\n",
    "\n",
    "persons = [\"Ali\", \"Ahmed\", \"Asad\", \"Ahsan\"]\n",
    "print (persons) \n",
    "\n",
    "print (type(persons))"
   ]
  },
  {
   "cell_type": "markdown",
   "metadata": {},
   "source": [
    "---"
   ]
  },
  {
   "cell_type": "markdown",
   "metadata": {},
   "source": [
    "## ***6. Tuple (`tuple`)***\n",
    "---\n"
   ]
  },
  {
   "cell_type": "markdown",
   "metadata": {},
   "source": [
    "- Tuples are ordered, immuatable collections of items. Tuples are defined using parentheses `()`."
   ]
  },
  {
   "cell_type": "code",
   "execution_count": null,
   "metadata": {},
   "outputs": [],
   "source": [
    "names = (\"Ali\", \"Ahmed\", \"Asad\", \"Ahsan\")\n",
    "print (names)\n",
    "print (type(names))"
   ]
  },
  {
   "cell_type": "markdown",
   "metadata": {},
   "source": [
    "---"
   ]
  },
  {
   "cell_type": "markdown",
   "metadata": {},
   "source": [
    "## ***7. Dictionary (`dict`)***\n",
    "---\n"
   ]
  },
  {
   "cell_type": "markdown",
   "metadata": {},
   "source": [
    "- Dictionaries are unordered collections of key-value pairs, defined using curly braces `{}`.\n",
    "- `dict` are mutable, we can modify them like `list`."
   ]
  },
  {
   "cell_type": "code",
   "execution_count": null,
   "metadata": {},
   "outputs": [],
   "source": [
    "names = {\"Ali\", \"Ahmed\", \"Asad\", \"Ahsan\"}\n",
    "print (type(names))\n",
    "print (names)"
   ]
  },
  {
   "cell_type": "markdown",
   "metadata": {},
   "source": [
    "---"
   ]
  },
  {
   "cell_type": "markdown",
   "metadata": {},
   "source": [
    "## ***8. Set (`set`)***\n",
    "---\n"
   ]
  },
  {
   "cell_type": "markdown",
   "metadata": {},
   "source": [
    "- Sets are unordered collections of unique items, defined using curly braces `{}` or the `set()` function.\n",
    "- `set` are mutable and can be modified."
   ]
  },
  {
   "cell_type": "code",
   "execution_count": null,
   "metadata": {},
   "outputs": [],
   "source": [
    "names = {\"Ali\", \"Ahmed\", \"Asad\", \"Ahsan\"}\n",
    "print (type(names))\n",
    "\n",
    "# empty set\n",
    "\n",
    "names = set()\n",
    "\n",
    "\n",
    "print (type(names))\n"
   ]
  },
  {
   "cell_type": "markdown",
   "metadata": {},
   "source": [
    "---\n"
   ]
  },
  {
   "cell_type": "markdown",
   "metadata": {},
   "source": [
    "## ***9. None (`None`)***\n",
    "---\n"
   ]
  },
  {
   "cell_type": "markdown",
   "metadata": {},
   "source": [
    "- `None` represents the absence of a value and is an object of its own datatype."
   ]
  },
  {
   "cell_type": "code",
   "execution_count": null,
   "metadata": {},
   "outputs": [],
   "source": [
    "result = None\n",
    "print (type(result))"
   ]
  },
  {
   "cell_type": "markdown",
   "metadata": {},
   "source": [
    "---"
   ]
  },
  {
   "cell_type": "markdown",
   "metadata": {},
   "source": [
    "## ***10. Complex (`Complex`)***\n",
    "---\n"
   ]
  },
  {
   "cell_type": "markdown",
   "metadata": {},
   "source": [
    "- Complex numbers are numbers with a real and imaginary part. The imaginary part is denoted by `j`."
   ]
  },
  {
   "cell_type": "code",
   "execution_count": null,
   "metadata": {},
   "outputs": [],
   "source": [
    "complex_number = 2 + 3j\n",
    "print (complex_number)\n",
    "print (type(complex_number))"
   ]
  }
 ],
 "metadata": {
  "kernelspec": {
   "display_name": "base",
   "language": "python",
   "name": "python3"
  },
  "language_info": {
   "codemirror_mode": {
    "name": "ipython",
    "version": 3
   },
   "file_extension": ".py",
   "mimetype": "text/x-python",
   "name": "python",
   "nbconvert_exporter": "python",
   "pygments_lexer": "ipython3",
   "version": "3.11.11"
  }
 },
 "nbformat": 4,
 "nbformat_minor": 2
}
