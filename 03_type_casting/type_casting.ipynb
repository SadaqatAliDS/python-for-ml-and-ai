{
 "cells": [
  {
   "cell_type": "markdown",
   "metadata": {},
   "source": [
    "# _**Type Casting**_\n",
    "---"
   ]
  },
  {
   "cell_type": "markdown",
   "metadata": {},
   "source": [
    "# _**1- Implicit Type Casting**_\n",
    "---"
   ]
  },
  {
   "cell_type": "markdown",
   "metadata": {},
   "source": [
    "- Python automatically converts one data type into another data type in certain situations. This usually happens when you perform operations between different data types, such as adding an integer and a float."
   ]
  },
  {
   "cell_type": "code",
   "execution_count": null,
   "metadata": {},
   "outputs": [],
   "source": [
    "a = 45\n",
    "b = 20.5\n",
    "c = a + b\n",
    "print (c)\n",
    "print (type(c)) \n"
   ]
  },
  {
   "cell_type": "markdown",
   "metadata": {},
   "source": [
    "---"
   ]
  },
  {
   "cell_type": "markdown",
   "metadata": {},
   "source": [
    "# _**2- Explicit Type Casting**_\n",
    "---"
   ]
  },
  {
   "cell_type": "markdown",
   "metadata": {},
   "source": [
    "- In cases where automatic type casting isn't appropriate, you can use explicit type casitng (also called type conversion). Here, you manually convert variable type to another type using Python's built-in functions like `int()`, `float()`, `str()`, etc.\n",
    "---"
   ]
  },
  {
   "cell_type": "markdown",
   "metadata": {},
   "source": [
    "## _**01. Casting `int` to `float`**_\n",
    "---"
   ]
  },
  {
   "cell_type": "code",
   "execution_count": null,
   "metadata": {},
   "outputs": [],
   "source": [
    "age_int = 18\n",
    "age_float = float(age_int)\n",
    "print(\"Age in Integer:\", age_int)\n",
    "print(\"Type:\", type(age_int))\n",
    "print(\"Age in float:\", age_float)\n",
    "print(\"Type:\", type(age_float))\n"
   ]
  },
  {
   "cell_type": "markdown",
   "metadata": {},
   "source": [
    "> **Explanation:**\n",
    "\n",
    "1️⃣ `age_int = 18`\n",
    "👉 Assigns the whole number `18` to the variable `age_int`.\n",
    "\n",
    "2️⃣ `age_float = float(age_int)`\n",
    "👉 Converts the integer `18` to the float `18.0` and stores it in `age_float`.\n",
    "\n",
    "3️⃣ `print(\"Age in Integer:\", age_int)`\n",
    "👉 Displays the text \"Age in Integer:\" followed by the value of `age_int`.\n",
    "\n",
    "4️⃣ `print(\"Type:\", type(age_int))`\n",
    "👉 Displays the type of `age_int`, which is `<class 'int'>`.\n",
    "\n",
    "5️⃣ `print(\"Age in float:\", age_float)`\n",
    "👉 Displays the text \"Age in float:\" followed by the float value `18.0`.\n",
    "\n",
    "6️⃣ `print(\"Type:\", type(age_float))`\n",
    "👉 Displays the type of `age_float`, which is `<class 'float'>`.\n",
    "\n",
    "\n"
   ]
  },
  {
   "cell_type": "markdown",
   "metadata": {},
   "source": [
    "---"
   ]
  },
  {
   "cell_type": "markdown",
   "metadata": {},
   "source": [
    "## _**02. Casting `float`  to `int`**_\n",
    "---"
   ]
  },
  {
   "cell_type": "code",
   "execution_count": null,
   "metadata": {},
   "outputs": [],
   "source": [
    "num_float = 15.6\n",
    "num_int = int (num_float)\n",
    "print (num_int)\n",
    "print (type (num_int))\n",
    "print (num_float)\n",
    "print (type (num_float))"
   ]
  },
  {
   "cell_type": "markdown",
   "metadata": {},
   "source": [
    "> **Explanation :**\n",
    "\n",
    "1️⃣ `num_float = 15.6`\n",
    "👉 Stores the floating-point number `15.6` in the variable `num_float`.\n",
    "\n",
    "2️⃣ `num_int = int(num_float)`\n",
    "👉 Converts `15.6` to an integer by removing the decimal part (`.6`), so it becomes `15` and stores it in `num_int`.\n",
    "\n",
    "3️⃣ `print(num_int)`\n",
    "👉 Displays the integer value `15` on the screen.\n",
    "\n",
    "4️⃣ `print(type(num_int))`\n",
    "👉 Displays the type of `num_int`, which is `<class 'int'>`.\n",
    "\n",
    "5️⃣ `print(num_float)`\n",
    "👉 Displays the original float value `15.6`.\n",
    "\n",
    "6️⃣ `print(type(num_float))`\n",
    "👉 Displays the type of `num_float`, which is `<class 'float'>`.\n",
    "\n",
    "\n"
   ]
  },
  {
   "cell_type": "markdown",
   "metadata": {},
   "source": [
    "---"
   ]
  },
  {
   "cell_type": "markdown",
   "metadata": {},
   "source": [
    "## _**03. Casting `int` or `float` to `str`**_\n",
    "---"
   ]
  },
  {
   "cell_type": "code",
   "execution_count": null,
   "metadata": {},
   "outputs": [],
   "source": [
    "num_int = 15\n",
    "num_float = 15.9\n",
    "num_str1 = str (num_int)\n",
    "num_str2 = str (num_float)\n",
    "print(num_str1)\n",
    "print (type (num_str1))\n",
    "print (num_str2)\n",
    "print (type (num_str2))\n",
    "print (num_int)\n",
    "print (type (num_int))\n",
    "print (num_float)\n",
    "print (type (num_float))"
   ]
  },
  {
   "cell_type": "markdown",
   "metadata": {},
   "source": [
    "> **Line-by-Line Explanation :**\n",
    "\n",
    "1️⃣ `num_int = 15`\n",
    "👉 Stores the integer value `15` in the variable `num_int`.\n",
    "\n",
    "2️⃣ `num_float = 15.9`\n",
    "👉 Stores the floating-point number `15.9` in the variable `num_float`.\n",
    "\n",
    "3️⃣ `num_str1 = str(num_int)`\n",
    "👉 Converts the integer `15` into a string `\"15\"` and stores it in `num_str1`.\n",
    "\n",
    "4️⃣ `num_str2 = str(num_float)`\n",
    "👉 Converts the float `15.9` into a string `\"15.9\"` and stores it in `num_str2`.\n",
    "\n",
    "5️⃣ `print(num_str1)`\n",
    "👉 Prints the string version of the integer, which is `\"15\"`.\n",
    "\n",
    "6️⃣ `print(type(num_str1))`\n",
    "👉 Prints the data type of `num_str1`, which is `<class 'str'>`.\n",
    "\n",
    "7️⃣ `print(num_str2)`\n",
    "👉 Prints the string version of the float, which is `\"15.9\"`.\n",
    "\n",
    "8️⃣ `print(type(num_str2))`\n",
    "👉 Prints the data type of `num_str2`, which is `<class 'str'>`.\n",
    "\n",
    "9️⃣ `print(num_int)`\n",
    "👉 Prints the original integer value `15`.\n",
    "\n",
    "🔟 `print(type(num_int))`\n",
    "👉 Prints the type of `num_int`, which is `<class 'int'>`.\n",
    "\n",
    "1️⃣1️⃣ `print(num_float)`\n",
    "👉 Prints the original float value `15.9`.\n",
    "\n",
    "1️⃣2️⃣ `print(type(num_float))`\n",
    "👉 Prints the type of `num_float`, which is `<class 'float'>`.\n",
    "\n",
    "\n"
   ]
  },
  {
   "cell_type": "markdown",
   "metadata": {},
   "source": [
    "---"
   ]
  },
  {
   "cell_type": "markdown",
   "metadata": {},
   "source": [
    "## _**04. Casting `str` to `int` or `float`**_\n",
    "---"
   ]
  },
  {
   "cell_type": "code",
   "execution_count": null,
   "metadata": {},
   "outputs": [],
   "source": [
    "num_str = \"55\"\n",
    "num_float = float (num_str)\n",
    "num_int = int (num_str)\n",
    "print (num_float)\n",
    "print (type (num_float))\n",
    "print (num_int)\n",
    "print (type (num_int))\n",
    "print (num_str)\n",
    "print (type (num_str))"
   ]
  },
  {
   "cell_type": "markdown",
   "metadata": {},
   "source": [
    "> **Line-by-Line Explanation :**\n",
    "\n",
    "1️⃣ `num_str = \"55\"`\n",
    "👉 Stores the string `\"55\"` (with quotes) in the variable `num_str`.\n",
    "\n",
    "2️⃣ `num_float = float(num_str)`\n",
    "👉 Converts the string `\"55\"` to a floating-point number `55.0` and stores it in `num_float`.\n",
    "\n",
    "3️⃣ `num_int = int(num_str)`\n",
    "👉 Converts the string `\"55\"` to an integer `55` and stores it in `num_int`.\n",
    "\n",
    "4️⃣ `print(num_float)`\n",
    "👉 Prints the float value `55.0`.\n",
    "\n",
    "5️⃣ `print(type(num_float))`\n",
    "👉 Prints the type of `num_float`, which is `<class 'float'>`.\n",
    "\n",
    "6️⃣ `print(num_int)`\n",
    "👉 Prints the integer value `55`.\n",
    "\n",
    "7️⃣ `print(type(num_int))`\n",
    "👉 Prints the type of `num_int`, which is `<class 'int'>`.\n",
    "\n",
    "8️⃣ `print(num_str)`\n",
    "👉 Prints the original string value `\"55\"`.\n",
    "\n",
    "9️⃣ `print(type(num_str))`\n",
    "👉 Prints the type of `num_str`, which is `<class 'str'>`.\n",
    "\n"
   ]
  },
  {
   "cell_type": "markdown",
   "metadata": {},
   "source": [
    "---"
   ]
  },
  {
   "cell_type": "markdown",
   "metadata": {},
   "source": [
    "## _**05. Casting from `list` to `tuple` and `tuple` to `list`**_\n",
    "---"
   ]
  },
  {
   "cell_type": "code",
   "execution_count": null,
   "metadata": {},
   "outputs": [],
   "source": [
    "# List to Tuple\n",
    "\n",
    "my_list = [1, 2, 3, 4, 5]\n",
    "my_tuple = tuple (my_list)\n",
    "print (my_tuple)\n",
    "print (type (my_tuple))"
   ]
  },
  {
   "cell_type": "markdown",
   "metadata": {},
   "source": [
    "> **Line-by-Line Explanation :**\n",
    "\n",
    "1️⃣ `my_list = [1, 2, 3, 4, 5]`\n",
    "👉 Creates a list containing the elements `1, 2, 3, 4, 5` and stores it in the variable `my_list`.\n",
    "\n",
    "2️⃣ `my_tuple = tuple(my_list)`\n",
    "👉 Converts the list `my_list` into a tuple using the `tuple()` function and stores it in `my_tuple`.\n",
    "\n",
    "3️⃣ `print(my_tuple)`\n",
    "👉 Prints the converted tuple: `(1, 2, 3, 4, 5)`.\n",
    "\n",
    "4️⃣ `print(type(my_tuple))`\n",
    "👉 Prints the type of `my_tuple`, which is `<class 'tuple'>`.\n",
    "\n"
   ]
  },
  {
   "cell_type": "code",
   "execution_count": null,
   "metadata": {},
   "outputs": [],
   "source": [
    "# Tuple to List\n",
    "\n",
    "my_tuple = (6,7,8,9,10)\n",
    "my_list = list (my_tuple)\n",
    "print (my_list)\n",
    "print (type (my_list))\n"
   ]
  },
  {
   "cell_type": "markdown",
   "metadata": {},
   "source": [
    "> **Line-by-Line Explanation :**\n",
    "\n",
    "1️⃣ `my_tuple = (6, 7, 8, 9, 10)`\n",
    "👉 Creates a tuple with the values `6, 7, 8, 9, 10` and stores it in the variable `my_tuple`.\n",
    "\n",
    "2️⃣ `my_list = list(my_tuple)`\n",
    "👉 Converts the tuple into a list using the `list()` function and stores it in `my_list`.\n",
    "\n",
    "3️⃣ `print(my_list)`\n",
    "👉 Prints the converted list: `[6, 7, 8, 9, 10]`.\n",
    "\n",
    "4️⃣ `print(type(my_list))`\n",
    "👉 Prints the type of `my_list`, which is `<class 'list'>`.\n",
    "\n",
    "\n"
   ]
  },
  {
   "cell_type": "markdown",
   "metadata": {},
   "source": [
    "---"
   ]
  },
  {
   "cell_type": "markdown",
   "metadata": {},
   "source": [
    "## _**06. Casting `List` to `Set` and `Set` to `List`**_ \n",
    "---"
   ]
  },
  {
   "cell_type": "code",
   "execution_count": null,
   "metadata": {},
   "outputs": [],
   "source": [
    "# List to Set\n",
    "\n",
    "my_list = [11,12,13,14,15]\n",
    "my_set = set (my_list)\n",
    "print (my_set)\n",
    "print (type (my_set))\n"
   ]
  },
  {
   "cell_type": "markdown",
   "metadata": {},
   "source": [
    "> **Line-by-Line Explanation :**\n",
    "\n",
    "1️⃣ `my_list = [11, 12, 13, 14, 15]`\n",
    "👉 Creates a list with elements `11, 12, 13, 14, 15` and stores it in the variable `my_list`.\n",
    "\n",
    "2️⃣ `my_set = set(my_list)`\n",
    "👉 Converts the list into a set using the `set()` function and stores it in `my_set`.\n",
    "\n",
    "3️⃣ `print(my_set)`\n",
    "👉 Prints the set. The order may vary (sets are unordered): e.g., `{11, 12, 13, 14, 15}`.\n",
    "\n",
    "4️⃣ `print(type(my_set))`\n",
    "👉 Prints the type of `my_set`, which is `<class 'set'>`.\n",
    "\n",
    "\n"
   ]
  },
  {
   "cell_type": "code",
   "execution_count": null,
   "metadata": {},
   "outputs": [],
   "source": [
    "# Set to List\n",
    "\n",
    "my_set = {16,17,18,19,20}\n",
    "my_list = list (my_set)\n",
    "print (my_list)\n",
    "print (type (my_list))\n"
   ]
  },
  {
   "cell_type": "markdown",
   "metadata": {},
   "source": [
    "> **Line-by-Line Explanation :**\n",
    "\n",
    "1️⃣ `my_set = {16, 17, 18, 19, 20}`\n",
    "👉 Creates a set with values `16, 17, 18, 19, 20` and stores it in `my_set`.\n",
    "\n",
    "2️⃣ `my_list = list(my_set)`\n",
    "👉 Converts the set into a list using the `list()` function and stores it in `my_list`.\n",
    "\n",
    "3️⃣ `print(my_list)`\n",
    "👉 Prints the list. The order might not be the same as the set because sets are unordered.\n",
    "\n",
    "4️⃣ `print(type(my_list))`\n",
    "👉 Prints the type of `my_list`, which is `<class 'list'>`.\n",
    "\n",
    "\n",
    "\n",
    "💡 **Key Reminder**:\n",
    "\n",
    "* **Sets are unordered**, so when converting to a list, the order of elements is **not guaranteed**.\n",
    "* Use `sorted()` if you need the list to be in order after conversion.\n",
    "\n",
    "---\n"
   ]
  },
  {
   "cell_type": "markdown",
   "metadata": {},
   "source": [
    "## _**07. Casting to `bool`**_\n",
    "\n",
    "---"
   ]
  },
  {
   "cell_type": "code",
   "execution_count": null,
   "metadata": {},
   "outputs": [],
   "source": [
    "num = 10\n",
    "bool_value = bool (num)\n",
    "print (bool_value)\n",
    "print  (type (bool_value))\n"
   ]
  },
  {
   "cell_type": "markdown",
   "metadata": {},
   "source": [
    "> **Line-by-Line Explanation :**\n",
    "\n",
    "1️⃣ `num = 10`\n",
    "👉 Stores the integer value `10` in the variable `num`.\n",
    "\n",
    "2️⃣ `bool_value = bool(num)`\n",
    "👉 Converts the integer `10` to its boolean equivalent. Since `10` is non-zero, it converts to `True` and stores it in `bool_value`.\n",
    "\n",
    "3️⃣ `print(bool_value)`\n",
    "👉 Prints the boolean value `True`.\n",
    "\n",
    "4️⃣ `print(type(bool_value))`\n",
    "👉 Prints the type of `bool_value`, which is `<class 'bool'>`.\n",
    "\n",
    "\n",
    "💡 **Key Tip:**\n",
    "\n",
    "* In Python, **any non-zero number converts to `True`**, while `0` converts to `False` when using `bool()`.\n",
    "\n"
   ]
  },
  {
   "cell_type": "code",
   "execution_count": null,
   "metadata": {},
   "outputs": [],
   "source": [
    "num = 0\n",
    "bool_value = bool (num)\n",
    "print (bool_value)\n",
    "print (type (bool_value))"
   ]
  },
  {
   "cell_type": "markdown",
   "metadata": {},
   "source": [
    "> **Line-by-Line Explanation :**\n",
    "\n",
    "1️⃣ `num = 0`\n",
    "👉 Stores the integer value `0` in the variable `num`.\n",
    "\n",
    "2️⃣ `bool_value = bool(num)`\n",
    "👉 Converts `0` to its boolean equivalent. Since `0` is considered false, it converts to `False` and stores it in `bool_value`.\n",
    "\n",
    "3️⃣ `print(bool_value)`\n",
    "👉 Prints the boolean value `False`.\n",
    "\n",
    "4️⃣ `print(type(bool_value))`\n",
    "👉 Prints the type of `bool_value`, which is `<class 'bool'>`.\n",
    "\n",
    "\n",
    "💡 **Quick Tip:**\n",
    "\n",
    "* In Python, **`0` and empty values** (like `\"\"`, `[]`, `{}`) convert to `False` with `bool()`. All other values convert to `True`.\n",
    "\n",
    "\n"
   ]
  },
  {
   "cell_type": "code",
   "execution_count": null,
   "metadata": {},
   "outputs": [],
   "source": [
    "# List to Boolean\n",
    "\n",
    "empty_list = []\n",
    "empty_list_to_bool = bool (empty_list)\n",
    "print (empty_list_to_bool)\n",
    "print (type(empty_list_to_bool))"
   ]
  },
  {
   "cell_type": "markdown",
   "metadata": {},
   "source": [
    "> **Line-by-Line Explanation :**\n",
    "\n",
    "1️⃣ `empty_list = []`\n",
    "👉 Creates an empty list `[]` and stores it in the variable `empty_list`.\n",
    "\n",
    "2️⃣ `empty_list_to_bool = bool(empty_list)`\n",
    "👉 Converts the empty list to its boolean value. Since the list is empty, it converts to `False` and is stored in `empty_list_to_bool`.\n",
    "\n",
    "3️⃣ `print(empty_list_to_bool)`\n",
    "👉 Prints the boolean value `False`.\n",
    "\n",
    "4️⃣ `print(type(empty_list_to_bool))`\n",
    "👉 Prints the type of `empty_list_to_bool`, which is `<class 'bool'>`.\n",
    "\n",
    "\n",
    "💡 **Key Insight:**\n",
    "\n",
    "* In Python, **empty collections** (like empty lists, tuples, sets, dictionaries) convert to `False`.\n",
    "* Non-empty collections convert to `True`.\n",
    "\n"
   ]
  },
  {
   "cell_type": "code",
   "execution_count": null,
   "metadata": {},
   "outputs": [],
   "source": [
    "# Tuple to Boolean\n",
    "\n",
    "a = ()\n",
    "a_to_bool= bool (a)\n",
    "print (a_to_bool)\n",
    "print (type(a_to_bool))\n"
   ]
  },
  {
   "cell_type": "markdown",
   "metadata": {},
   "source": [
    "> **Line-by-Line Explanation :**\n",
    "\n",
    "1️⃣ `a = ()`\n",
    "👉 Creates an empty tuple `()` and assigns it to the variable `a`.\n",
    "\n",
    "2️⃣ `a_to_bool = bool(a)`\n",
    "👉 Converts the empty tuple to its boolean value. Since it's empty, it converts to `False` and stores it in `a_to_bool`.\n",
    "\n",
    "3️⃣ `print(a_to_bool)`\n",
    "👉 Prints the boolean value `False`.\n",
    "\n",
    "4️⃣ `print(type(a_to_bool))`\n",
    "👉 Prints the type of `a_to_bool`, which is `<class 'bool'>`.\n",
    "\n",
    "\n",
    "\n",
    "💡 **Important Note:**\n",
    "\n",
    "* Like empty lists, **empty tuples also convert to `False`** in boolean context.\n",
    "* Non-empty tuples would convert to `True`.\n",
    "\n",
    "\n",
    "---"
   ]
  },
  {
   "cell_type": "markdown",
   "metadata": {},
   "source": [
    "# _**3- Dynamic Type Casting in Operations**_\n",
    "---"
   ]
  },
  {
   "cell_type": "markdown",
   "metadata": {},
   "source": [
    "- In some cases, you may want to handle multiple data types dynamically based on user input or external data sources. Here's an example where the variable data type changes based on dynamic conditions:"
   ]
  },
  {
   "cell_type": "code",
   "execution_count": null,
   "metadata": {},
   "outputs": [],
   "source": [
    "# User input is always string, so dynamic type conversion or casting may be needed\n",
    "\n",
    "user_input = input(\"Enter a number: \") # Let's say user enters \"10.5\"\n",
    "\n",
    "# Dynamically cast to float and integer based on the input\n",
    "\n",
    "if '.' in user_input:\n",
    "    num = float(user_input) # convert to float if there's a decimal point\n",
    "else:\n",
    "    num = int(user_input) # convert to int if no decimal point\n",
    "\n",
    "\n",
    "print (f\"the number is {num} and its type is {type(num)}\")\n",
    "    "
   ]
  },
  {
   "cell_type": "markdown",
   "metadata": {},
   "source": [
    "---"
   ]
  },
  {
   "cell_type": "markdown",
   "metadata": {},
   "source": [
    "# _**4- Using `eval()` for dynamic type casting**_\n",
    "---"
   ]
  },
  {
   "cell_type": "markdown",
   "metadata": {},
   "source": [
    "- In some situations, you might not know the type of the value in advance, and you can use `eval()` to automatically determine and cast the type. `eval()` evaluates the string as a Python expression. "
   ]
  },
  {
   "cell_type": "code",
   "execution_count": null,
   "metadata": {},
   "outputs": [],
   "source": [
    "# using eval() to dynamically cast types\n",
    "\n",
    "user_input = input(\"Enter a number: \") # Let's say user enters \"10.5\"\n",
    "num = eval(user_input) # Evaluates the string and converts it to the appropriate type\n",
    "print (f\"The number is {num} and its type is {type(num)}\")\n",
    "\n",
    "# if the input is \"10.5\", it will be converted to float\n",
    "# if the input is \"10\", it will be converted to int"
   ]
  },
  {
   "cell_type": "markdown",
   "metadata": {},
   "source": [
    "---"
   ]
  },
  {
   "cell_type": "markdown",
   "metadata": {},
   "source": [
    "# _**5- Changing Variable Types Dynamically**_\n",
    "---"
   ]
  },
  {
   "cell_type": "markdown",
   "metadata": {},
   "source": [
    "- You can also dynamically reassign a variable to another type during the runtime."
   ]
  },
  {
   "cell_type": "code",
   "execution_count": null,
   "metadata": {},
   "outputs": [],
   "source": [
    "# Dynamically changing the type of a variable\n",
    "x = 10 # Initially an integer\n",
    "print (type(x))  # Output: <class 'int'>\n",
    "\n",
    "x = 10.5 # Now a float  \n",
    "print (type(x))  # Output: <class 'float'>\n",
    "\n",
    "x = \"Hello\" # Now a string  \n",
    "print (type(x))  # Output: <class 'str'>\n",
    "\n",
    "x = [1, 2, 3] # Now a list\n",
    "print (type(x))  # Output: <class 'list'>\n",
    "\n",
    "x = (1, 2, 3) # Now a tuple\n",
    "print (type(x))  # Output: <class 'tuple'>\n",
    "\n",
    "x = {1, 2, 3} # Now a set\n",
    "print (type(x))  # Output: <class 'set'>\n",
    "\n",
    "x = {2 : \"two\", 1 : \"one\"} # Now a dictionary\n",
    "print (type(x))  # Output: <class 'dict'>\n",
    "\n",
    "x = True # Now a boolean\n",
    "print (type(x))  # Output: <class 'bool'>\n",
    "\n",
    "x = None # Now NoneType\n",
    "print (type(x))  # Output: <class 'NoneType'>\n",
    "\n",
    "# This shows that Python is dynamically typed and allows changing the type of a variable at runtime.\n"
   ]
  },
  {
   "cell_type": "markdown",
   "metadata": {},
   "source": [
    "---"
   ]
  },
  {
   "cell_type": "markdown",
   "metadata": {},
   "source": [
    "# _**6- Casting during Mathematical Operations**_\n",
    "---"
   ]
  },
  {
   "cell_type": "markdown",
   "metadata": {},
   "source": [
    "- Python dynamically promotes types during mathematical operatoins. When different types are involoved in a single expression, Python converts them to a compatible type."
   ]
  },
  {
   "cell_type": "code",
   "execution_count": null,
   "metadata": {},
   "outputs": [],
   "source": [
    "# Example of dynamic casting during operations\n",
    "\n",
    "a = 5 # int\n",
    "b = 2.7 # float\n",
    "\n",
    "result = a * b # Python automatically casts the result to a float \n",
    "print (result) # output: 13.5\n",
    "print (type (result)) # output: <class 'float'>"
   ]
  }
 ],
 "metadata": {
  "kernelspec": {
   "display_name": "base",
   "language": "python",
   "name": "python3"
  },
  "language_info": {
   "codemirror_mode": {
    "name": "ipython",
    "version": 3
   },
   "file_extension": ".py",
   "mimetype": "text/x-python",
   "name": "python",
   "nbconvert_exporter": "python",
   "pygments_lexer": "ipython3",
   "version": "3.11.11"
  }
 },
 "nbformat": 4,
 "nbformat_minor": 2
}
