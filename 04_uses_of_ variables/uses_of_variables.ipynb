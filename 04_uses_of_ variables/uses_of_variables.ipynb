{
 "cells": [
  {
   "cell_type": "markdown",
   "id": "aff65c1a",
   "metadata": {},
   "source": [
    "# _**01. Integer `int`**_"
   ]
  },
  {
   "cell_type": "markdown",
   "id": "21b641a4",
   "metadata": {},
   "source": [
    "\n",
    "- **When to use :** Use int when you need to work with whole numbers without a fractional component.\n",
    "\n",
    "- **Examples:**\n",
    "\n",
    "   - Counting (e.g. numbers of people, products, events).\n",
    "   - Indexing elements in a list.\n",
    "   - Discrete calculations (e.g., age, quantity).\n",
    "\n",
    "---"
   ]
  },
  {
   "cell_type": "markdown",
   "id": "d61581ae",
   "metadata": {},
   "source": [
    "# _**2. Float `float`**_"
   ]
  },
  {
   "cell_type": "markdown",
   "id": "33c9fe13",
   "metadata": {},
   "source": [
    "- **When to use:** Use float when you need to represent real numbers that include decimals or fractions.\n",
    "\n",
    "- **Examples:**\n",
    "\n",
    "   -  Measurements (e.g., weight, height, temperature).\n",
    "   -  Financial calculations (e.g., prices, discounts, tax rates).\n",
    "   -  Scientific data (e.g., distance, speed, density).\n",
    "---"
   ]
  },
  {
   "cell_type": "markdown",
   "id": "074a061f",
   "metadata": {},
   "source": [
    "# _**3. String `str`**_"
   ]
  },
  {
   "cell_type": "markdown",
   "id": "7d32434c",
   "metadata": {},
   "source": [
    "- **When to use:** Use `str` to represent texual data such as names, sentences, or identifiers.\n",
    "\n",
    "- **Examples:**\n",
    "\n",
    "   - Use input (e.g., names, address, emails).\n",
    "   - Description or messages (e.g., error messages, status updates).\n",
    "   - Representing codes (e.g., product codes, order numbers).\n",
    "---"
   ]
  },
  {
   "cell_type": "markdown",
   "id": "c359edeb",
   "metadata": {},
   "source": [
    "# _**4. Boolean `bool`**_"
   ]
  },
  {
   "cell_type": "markdown",
   "id": "b9289944",
   "metadata": {},
   "source": [
    "\n",
    "\n",
    "- **When to use:** Use `bool` to represent truth values (`True` or `False`) for decision-making or conditional logic.\n",
    "\n",
    "- **Examples:**\n",
    "\n",
    "   - Status flags (e.g., whether a user is logged in or not).\n",
    "   - Conditional checks (e.g., if a process is complete, if a door is open).\n",
    "   - Binary states (e.g., yes/no, on/off). \n",
    "---"
   ]
  },
  {
   "cell_type": "markdown",
   "id": "4d5d4ce4",
   "metadata": {},
   "source": [
    "# _**5. List `list`**_"
   ]
  },
  {
   "cell_type": "markdown",
   "id": "9e2ed190",
   "metadata": {},
   "source": [
    "- **When to use:** Use `list` when you need to store multiple items in an ordered, mutable collection. It can contain data type.\n",
    "\n",
    "- **Examples:** \n",
    "\n",
    "   - Storing a collection of items (e.g., shopping cart, to-do lists).\n",
    "   - Grouping related data (e.g., names, scores, sensor readings).\n",
    "   - Dynamics collections (e.g., adding or removing items).\n",
    "  ---"
   ]
  },
  {
   "cell_type": "markdown",
   "id": "7593ea54",
   "metadata": {},
   "source": [
    "# _**6. Tuple `tuple`**_"
   ]
  },
  {
   "cell_type": "markdown",
   "id": "c285215b",
   "metadata": {},
   "source": [
    "- **When to use:** Use tuple when you need an ordered collection of items that should remain immutable (i.e., cannot change after creation).\n",
    "  \n",
    "- **Examples:**\n",
    "\n",
    "   - Grouping related but unchangeable data (e.g., coordinations, dates).\n",
    "   - Return multiple values from a function (e.g., position and velocity).\n",
    "   - Grouping settings or configuration constants (PAI).\n",
    "---"
   ]
  },
  {
   "cell_type": "markdown",
   "id": "d977b204",
   "metadata": {},
   "source": [
    "# _**7. Dictionary `dict`**_"
   ]
  },
  {
   "cell_type": "markdown",
   "id": "7d06e220",
   "metadata": {},
   "source": [
    "- **When to use:** Use `dict` whhen you need to store key-value pairs, allowing you to map unique keys to specific values.\n",
    "\n",
    "- **Examples:**\n",
    "\n",
    "   - Storing configuration or settings (e.g., database configurations, API credetials).\n",
    "   - Associating information with identifiers (e.g., phonebook, product details).\n",
    "   - Grouping multiple related attributes (e.g., a User profile, product catalog).\n",
    "\n",
    "---"
   ]
  },
  {
   "cell_type": "markdown",
   "id": "a3017f90",
   "metadata": {},
   "source": [
    "# _**8. Set `set`**_"
   ]
  },
  {
   "cell_type": "markdown",
   "id": "b115bf78",
   "metadata": {},
   "source": [
    "- **When to use:** Use `set` when you need to store unique items without duplicates and don't need an ordered collection.\n",
    "\n",
    "- **Examples:**\n",
    "\n",
    "   - Managing unique items (e.g., tags, categories, IDs).\n",
    "   - Set operations (e.g., union, intersection, difference).\n",
    "   - Removing duplicates from a collection of items.\n",
    "  \n",
    "---"
   ]
  },
  {
   "cell_type": "markdown",
   "id": "09d46d75",
   "metadata": {},
   "source": [
    "# _**9. None `None Type`**_"
   ]
  },
  {
   "cell_type": "markdown",
   "id": "81c1c634",
   "metadata": {},
   "source": [
    "- **When to use:** Use `None` when you want to represent the absence of a  value or a null value. \n",
    "\n",
    "- **Examples:**\n",
    "\n",
    "   - Default values when a variable hasn't been itialized.\n",
    "   - Placeholder for optional parameters or missing data.\n",
    "   - Representing the result of an operation that doesn't return a meaningful value.\n",
    "---"
   ]
  },
  {
   "cell_type": "markdown",
   "id": "242bb5de",
   "metadata": {},
   "source": [
    "# _**10. Complex `complex`**_"
   ]
  },
  {
   "cell_type": "markdown",
   "id": "41e1a64f",
   "metadata": {},
   "source": [
    "- **When to use:** `complex` when dealing with complex numbers (numbers with real and imaginary parts).\n",
    "\n",
    "- **Examples:**\n",
    "\n",
    "   - Scientific calculations that require imaginary numbers.\n",
    "   - Engineering and physics simulations.\n",
    "   - Complex algebric computations.\n",
    "---\n",
    "\n",
    "\n",
    "\n",
    "\n",
    "\n",
    "\n"
   ]
  },
  {
   "cell_type": "markdown",
   "id": "d714b3eb",
   "metadata": {},
   "source": [
    "### 🟩 _**Key Takeaway:**_"
   ]
  },
  {
   "cell_type": "markdown",
   "id": "7fa636b9",
   "metadata": {},
   "source": [
    "| _**Scenario**_ | _**Variable Type**_|_**Reason**_|\n",
    "|----------|:---------------:|-------|\n",
    "Counting items, age, quantity|`int`|You need whole numbers without decimals.\n",
    "Working with prices, measurements|`float`|Precision is required inculding decimals.\n",
    "Usernames, descriptions, product codes|`str`|Textual data that represents names or tables.\n",
    "Cheking on/off status, true/false values|`bool`|Binary condition (True or False).\n",
    "Dynamic collection of items|`list`|An ordered, mutable collection of various items.\n",
    "Grouping constant values|`tuple`|Immuatable collection of related data.\n",
    "Storing related information|`dict`|Key-value pairs of quick lookup and organized data.\n",
    "Managing unique values, set operations|`set`|Ensures uniqueness of elements.\n",
    "Placeholder for no value|`None Type`|Represents the absence of a value.\n",
    "Handling scientific calculations|`complex`|Mathematical operations requiring real & imaginary parts.\n",
    "\n",
    "---"
   ]
  }
 ],
 "metadata": {
  "language_info": {
   "name": "python"
  }
 },
 "nbformat": 4,
 "nbformat_minor": 5
}
